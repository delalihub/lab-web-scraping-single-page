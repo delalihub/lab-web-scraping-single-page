{
 "cells": [
  {
   "cell_type": "code",
   "execution_count": 1,
   "id": "110947a6",
   "metadata": {},
   "outputs": [],
   "source": [
    "from bs4 import BeautifulSoup # helps to decompose information into a tree\n",
    "import requests # helps get information from the website\n",
    "import pandas as pd"
   ]
  },
  {
   "cell_type": "code",
   "execution_count": 2,
   "id": "d70cf8a3",
   "metadata": {},
   "outputs": [],
   "source": [
    "#body > div.container > div:nth-child(4) > div.col-xs-12.col-md-8 > div.chart-wrapper"
   ]
  },
  {
   "cell_type": "code",
   "execution_count": 3,
   "id": "58cdac6d",
   "metadata": {},
   "outputs": [],
   "source": [
    "# 2. find url and store it in a variable\n",
    "url = \"https://www.popvortex.com/music/charts/top-100-songs.php\""
   ]
  },
  {
   "cell_type": "code",
   "execution_count": 4,
   "id": "a5430ce9",
   "metadata": {},
   "outputs": [
    {
     "data": {
      "text/plain": [
       "200"
      ]
     },
     "execution_count": 4,
     "metadata": {},
     "output_type": "execute_result"
    }
   ],
   "source": [
    "# 3. download html with a get request\n",
    "response = requests.get(url)\n",
    "response.status_code # 200 status code means OK!"
   ]
  },
  {
   "cell_type": "code",
   "execution_count": 5,
   "id": "ee88eb69",
   "metadata": {},
   "outputs": [],
   "source": [
    "# 4.1. parse html (create the 'soup')\n",
    "soup = BeautifulSoup(response.content, \"html.parser\")"
   ]
  },
  {
   "cell_type": "code",
   "execution_count": 7,
   "id": "77cf3922",
   "metadata": {},
   "outputs": [],
   "source": [
    "#soup"
   ]
  },
  {
   "cell_type": "markdown",
   "id": "8570b739",
   "metadata": {},
   "source": [
    "##### For title"
   ]
  },
  {
   "cell_type": "code",
   "execution_count": null,
   "id": "e684e4b9",
   "metadata": {},
   "outputs": [],
   "source": [
    "#chart-position-1 > div.chart-content.col-xs-12.col-sm-8 > p > cite"
   ]
  },
  {
   "cell_type": "code",
   "execution_count": 19,
   "id": "d7173ef4",
   "metadata": {},
   "outputs": [
    {
     "data": {
      "text/plain": [
       "[<cite class=\"title\">Like Crazy (Deep House Remix)</cite>]"
      ]
     },
     "execution_count": 19,
     "metadata": {},
     "output_type": "execute_result"
    }
   ],
   "source": [
    "# 5. retrieve/extract the desired info (here, you'll paste the \"Selector\" you copied before to get the element that belongs to the top movie)\n",
    "soup.select(\"#chart-position-1 > div.chart-content.col-xs-12.col-sm-8 > p > cite\")"
   ]
  },
  {
   "cell_type": "code",
   "execution_count": 20,
   "id": "8cf0c452",
   "metadata": {},
   "outputs": [
    {
     "data": {
      "text/plain": [
       "[<cite class=\"title\">Like Crazy (Deep House Remix)</cite>,\n",
       " <cite class=\"title\">Flowers</cite>,\n",
       " <cite class=\"title\">Like Crazy (UK Garage Remix)</cite>,\n",
       " <cite class=\"title\">Last Night</cite>,\n",
       " <cite class=\"title\">Fast Car</cite>,\n",
       " <cite class=\"title\">Like Crazy (Instrumental)</cite>,\n",
       " <cite class=\"title\">Like Crazy (English Version)</cite>,\n",
       " <cite class=\"title\">Like Crazy</cite>,\n",
       " <cite class=\"title\">Justice for All</cite>,\n",
       " <cite class=\"title\">Calm Down</cite>,\n",
       " <cite class=\"title\">Heart Like A Truck</cite>,\n",
       " <cite class=\"title\">Eyes Closed</cite>,\n",
       " <cite class=\"title\">Fighting Myself</cite>,\n",
       " <cite class=\"title\">Growin' Up and Gettin' Old</cite>,\n",
       " <cite class=\"title\">You Say</cite>,\n",
       " <cite class=\"title\">Love You Anyway</cite>,\n",
       " <cite class=\"title\">Thinkin’ Bout Me</cite>,\n",
       " <cite class=\"title\">Thought You Should Know</cite>,\n",
       " <cite class=\"title\">Anti-Hero</cite>,\n",
       " <cite class=\"title\">5 Leaf Clover</cite>,\n",
       " <cite class=\"title\">Players</cite>,\n",
       " <cite class=\"title\">labour</cite>,\n",
       " <cite class=\"title\">Thank God</cite>,\n",
       " <cite class=\"title\">This Is Our God</cite>,\n",
       " <cite class=\"title\">End of the World</cite>,\n",
       " <cite class=\"title\">God's Country</cite>,\n",
       " <cite class=\"title\">More Than Able (feat. Chandler Moore &amp; Tiffany Hudson)</cite>,\n",
       " <cite class=\"title\">Rock and a Hard Place</cite>,\n",
       " <cite class=\"title\">wait in the truck</cite>,\n",
       " <cite class=\"title\">Face-off</cite>,\n",
       " <cite class=\"title\">Thank God I Do</cite>,\n",
       " <cite class=\"title\">All Of The Girls You Loved Before</cite>,\n",
       " <cite class=\"title\">Unstoppable</cite>,\n",
       " <cite class=\"title\">Set Me Free, Pt. 2</cite>,\n",
       " <cite class=\"title\">Alone</cite>,\n",
       " <cite class=\"title\">Rescue</cite>,\n",
       " <cite class=\"title\">Favorite Song</cite>,\n",
       " <cite class=\"title\">BESO</cite>,\n",
       " <cite class=\"title\">I Ain't Worried</cite>,\n",
       " <cite class=\"title\">Eyes Closed</cite>,\n",
       " <cite class=\"title\">NEED A FAVOR</cite>,\n",
       " <cite class=\"title\">TRUSTFALL</cite>,\n",
       " <cite class=\"title\">You Proof</cite>,\n",
       " <cite class=\"title\">Heart Attack (Rock Version)</cite>,\n",
       " <cite class=\"title\">Kill Bill</cite>,\n",
       " <cite class=\"title\">Interlude : Dive</cite>,\n",
       " <cite class=\"title\">Wasted On You</cite>,\n",
       " <cite class=\"title\">As It Was</cite>,\n",
       " <cite class=\"title\">Chasin' You</cite>,\n",
       " <cite class=\"title\">Something in the Orange (Z&amp;E's Version)</cite>,\n",
       " <cite class=\"title\">In Jesus Name (God Of Possible)</cite>,\n",
       " <cite class=\"title\">Made You Look</cite>,\n",
       " <cite class=\"title\">Look At Us Now (Honeycomb)</cite>,\n",
       " <cite class=\"title\">Tennessee Whiskey</cite>,\n",
       " <cite class=\"title\">Lift Me Up (From Black Panther: Wakanda Forever - Music From and Inspired By)</cite>,\n",
       " <cite class=\"title\">Sure Thing</cite>,\n",
       " <cite class=\"title\">Hold My Hand</cite>,\n",
       " <cite class=\"title\">Son Of A Sinner</cite>,\n",
       " <cite class=\"title\">You Raise Me Up</cite>,\n",
       " <cite class=\"title\">Unholy</cite>,\n",
       " <cite class=\"title\">Gratitude</cite>,\n",
       " <cite class=\"title\">Lost</cite>,\n",
       " <cite class=\"title\">One Thing At A Time</cite>,\n",
       " <cite class=\"title\">TQG</cite>,\n",
       " <cite class=\"title\">Boy's a liar, Pt. 2</cite>,\n",
       " <cite class=\"title\">ICU</cite>,\n",
       " <cite class=\"title\">What He Didn't Do</cite>,\n",
       " <cite class=\"title\">Mother</cite>,\n",
       " <cite class=\"title\">Ghosts Again</cite>,\n",
       " <cite class=\"title\">golden hour</cite>,\n",
       " <cite class=\"title\">Die For You (Remix)</cite>,\n",
       " <cite class=\"title\">I Would Die for You</cite>,\n",
       " <cite class=\"title\">God Is In This Story</cite>,\n",
       " <cite class=\"title\">Going, Going, Gone</cite>,\n",
       " <cite class=\"title\">Handle On You</cite>,\n",
       " <cite class=\"title\">Dancin’ In The Country</cite>,\n",
       " <cite class=\"title\">Where the Wild Things Are</cite>,\n",
       " <cite class=\"title\">Calm Down</cite>,\n",
       " <cite class=\"title\">Let Me Down Easy</cite>,\n",
       " <cite class=\"title\">Change the World</cite>,\n",
       " <cite class=\"title\">I Wrote The Book</cite>,\n",
       " <cite class=\"title\">Hold On To Me</cite>,\n",
       " <cite class=\"title\">Lavender Haze</cite>,\n",
       " <cite class=\"title\">10:35</cite>,\n",
       " <cite class=\"title\">Escapism.</cite>,\n",
       " <cite class=\"title\">God Gave Me You</cite>,\n",
       " <cite class=\"title\">Whiskey Glasses</cite>,\n",
       " <cite class=\"title\">Human</cite>,\n",
       " <cite class=\"title\">Trump Won</cite>,\n",
       " <cite class=\"title\">Bloody Mary</cite>,\n",
       " <cite class=\"title\">Creepin'</cite>,\n",
       " <cite class=\"title\">Bright Eyes</cite>,\n",
       " <cite class=\"title\">Tennessee Orange</cite>,\n",
       " <cite class=\"title\">Everywhere</cite>,\n",
       " <cite class=\"title\">I'm Good (Blue)</cite>,\n",
       " <cite class=\"title\">Forever and Ever, Amen</cite>,\n",
       " <cite class=\"title\">Head Above Water</cite>,\n",
       " <cite class=\"title\">Cowgirls (feat. ERNEST)</cite>,\n",
       " <cite class=\"title\">If Anything's Left</cite>,\n",
       " <cite class=\"title\">Just Pretend</cite>]"
      ]
     },
     "execution_count": 20,
     "metadata": {},
     "output_type": "execute_result"
    }
   ],
   "source": [
    "# To get all artist\n",
    "soup.select(\"div.chart-content.col-xs-12.col-sm-8 > p > cite\")"
   ]
  },
  {
   "cell_type": "code",
   "execution_count": 24,
   "id": "55fe9244",
   "metadata": {},
   "outputs": [
    {
     "data": {
      "text/plain": [
       "'Like Crazy (Deep House Remix)'"
      ]
     },
     "execution_count": 24,
     "metadata": {},
     "output_type": "execute_result"
    }
   ],
   "source": [
    "soup.select(\"div.chart-content.col-xs-12.col-sm-8 > p > cite\")[0].get_text()"
   ]
  },
  {
   "cell_type": "markdown",
   "id": "1f8a32e2",
   "metadata": {},
   "source": [
    "##### For artist"
   ]
  },
  {
   "cell_type": "code",
   "execution_count": null,
   "id": "5341e5b5",
   "metadata": {},
   "outputs": [],
   "source": [
    "#chart-position-1 > div.chart-content.col-xs-12.col-sm-8 > p > em"
   ]
  },
  {
   "cell_type": "code",
   "execution_count": 25,
   "id": "e9c52448",
   "metadata": {},
   "outputs": [
    {
     "data": {
      "text/plain": [
       "[<em class=\"artist\">Jimin</em>]"
      ]
     },
     "execution_count": 25,
     "metadata": {},
     "output_type": "execute_result"
    }
   ],
   "source": [
    "# 5. retrieve/extract the desired info (here, you'll paste the \"Selector\" you copied before to get the element that belongs to the top movie)\n",
    "soup.select(\"#chart-position-1 > div.chart-content.col-xs-12.col-sm-8 > p > em\")"
   ]
  },
  {
   "cell_type": "code",
   "execution_count": 26,
   "id": "89af0f2a",
   "metadata": {},
   "outputs": [
    {
     "data": {
      "text/plain": [
       "[<em class=\"artist\">Jimin</em>,\n",
       " <em class=\"artist\">Miley Cyrus</em>,\n",
       " <em class=\"artist\">Jimin</em>,\n",
       " <em class=\"artist\">Morgan Wallen</em>,\n",
       " <em class=\"artist\">Luke Combs</em>,\n",
       " <em class=\"artist\">Jimin</em>,\n",
       " <em class=\"artist\">Jimin</em>,\n",
       " <em class=\"artist\">Jimin</em>,\n",
       " <em class=\"artist\">Donald J. Trump &amp; J6 Prison Choir</em>,\n",
       " <em class=\"artist\">Rema &amp; Selena Gomez</em>,\n",
       " <em class=\"artist\">Lainey Wilson</em>,\n",
       " <em class=\"artist\">Ed Sheeran</em>,\n",
       " <em class=\"artist\">LINKIN PARK</em>,\n",
       " <em class=\"artist\">Luke Combs</em>,\n",
       " <em class=\"artist\">Lauren Daigle</em>,\n",
       " <em class=\"artist\">Luke Combs</em>,\n",
       " <em class=\"artist\">Morgan Wallen</em>,\n",
       " <em class=\"artist\">Morgan Wallen</em>,\n",
       " <em class=\"artist\">Taylor Swift</em>,\n",
       " <em class=\"artist\">Luke Combs</em>,\n",
       " <em class=\"artist\">Coi Leray</em>,\n",
       " <em class=\"artist\">Paris Paloma</em>,\n",
       " <em class=\"artist\">Kane Brown &amp; Katelyn Brown</em>,\n",
       " <em class=\"artist\">Phil Wickham</em>,\n",
       " <em class=\"artist\">Tom MacDonald &amp; John Rich</em>,\n",
       " <em class=\"artist\">Blake Shelton</em>,\n",
       " <em class=\"artist\">Elevation Worship</em>,\n",
       " <em class=\"artist\">Bailey Zimmerman</em>,\n",
       " <em class=\"artist\">HARDY &amp; Lainey Wilson</em>,\n",
       " <em class=\"artist\">Jimin</em>,\n",
       " <em class=\"artist\">Lauren Daigle</em>,\n",
       " <em class=\"artist\">Taylor Swift</em>,\n",
       " <em class=\"artist\">Sia</em>,\n",
       " <em class=\"artist\">Jimin</em>,\n",
       " <em class=\"artist\">Jimin</em>,\n",
       " <em class=\"artist\">Lauren Daigle</em>,\n",
       " <em class=\"artist\">Toosii</em>,\n",
       " <em class=\"artist\">ROSALÍA &amp; Rauw Alejandro</em>,\n",
       " <em class=\"artist\">OneRepublic</em>,\n",
       " <em class=\"artist\">Ed Sheeran</em>,\n",
       " <em class=\"artist\">Jelly Roll</em>,\n",
       " <em class=\"artist\">P!nk</em>,\n",
       " <em class=\"artist\">Morgan Wallen</em>,\n",
       " <em class=\"artist\">Demi Lovato</em>,\n",
       " <em class=\"artist\">SZA</em>,\n",
       " <em class=\"artist\">Jimin</em>,\n",
       " <em class=\"artist\">Morgan Wallen</em>,\n",
       " <em class=\"artist\">Harry Styles</em>,\n",
       " <em class=\"artist\">Morgan Wallen</em>,\n",
       " <em class=\"artist\">Zach Bryan</em>,\n",
       " <em class=\"artist\">Katy Nichole</em>,\n",
       " <em class=\"artist\">Meghan Trainor</em>,\n",
       " <em class=\"artist\">Daisy Jones &amp; The Six</em>,\n",
       " <em class=\"artist\">Chris Stapleton</em>,\n",
       " <em class=\"artist\">Rihanna</em>,\n",
       " <em class=\"artist\">Miguel</em>,\n",
       " <em class=\"artist\">Lady Gaga</em>,\n",
       " <em class=\"artist\">Jelly Roll</em>,\n",
       " <em class=\"artist\">Josh Groban</em>,\n",
       " <em class=\"artist\">Sam Smith &amp; Kim Petras</em>,\n",
       " <em class=\"artist\">Brandon Lake</em>,\n",
       " <em class=\"artist\">LINKIN PARK</em>,\n",
       " <em class=\"artist\">Morgan Wallen</em>,\n",
       " <em class=\"artist\">KAROL G &amp; Shakira</em>,\n",
       " <em class=\"artist\">PinkPantheress &amp; Ice Spice</em>,\n",
       " <em class=\"artist\">Coco Jones</em>,\n",
       " <em class=\"artist\">Carly Pearce</em>,\n",
       " <em class=\"artist\">Meghan Trainor</em>,\n",
       " <em class=\"artist\">Depeche Mode</em>,\n",
       " <em class=\"artist\">JVKE</em>,\n",
       " <em class=\"artist\">The Weeknd &amp; Ariana Grande</em>,\n",
       " <em class=\"artist\">In This Moment</em>,\n",
       " <em class=\"artist\">Katy Nichole &amp; Big Daddy Weave</em>,\n",
       " <em class=\"artist\">Luke Combs</em>,\n",
       " <em class=\"artist\">Parker McCollum</em>,\n",
       " <em class=\"artist\">Tyler Hubbard</em>,\n",
       " <em class=\"artist\">Luke Combs</em>,\n",
       " <em class=\"artist\">Rema</em>,\n",
       " <em class=\"artist\">Daisy Jones &amp; The Six</em>,\n",
       " <em class=\"artist\">Eric Clapton</em>,\n",
       " <em class=\"artist\">Morgan Wallen</em>,\n",
       " <em class=\"artist\">Lauren Daigle</em>,\n",
       " <em class=\"artist\">Taylor Swift</em>,\n",
       " <em class=\"artist\">Tiësto &amp; Tate McRae</em>,\n",
       " <em class=\"artist\">RAYE &amp; 070 Shake</em>,\n",
       " <em class=\"artist\">Blake Shelton</em>,\n",
       " <em class=\"artist\">Morgan Wallen</em>,\n",
       " <em class=\"artist\">Cody Johnson</em>,\n",
       " <em class=\"artist\">Natasha Owens</em>,\n",
       " <em class=\"artist\">Lady Gaga</em>,\n",
       " <em class=\"artist\">Metro Boomin, The Weeknd &amp; 21 Savage</em>,\n",
       " <em class=\"artist\">Timcast</em>,\n",
       " <em class=\"artist\">Megan Moroney</em>,\n",
       " <em class=\"artist\">Fleetwood Mac</em>,\n",
       " <em class=\"artist\">David Guetta &amp; Bebe Rexha</em>,\n",
       " <em class=\"artist\">Randy Travis</em>,\n",
       " <em class=\"artist\">Avril Lavigne</em>,\n",
       " <em class=\"artist\">Morgan Wallen</em>,\n",
       " <em class=\"artist\">Jamie Fine</em>,\n",
       " <em class=\"artist\">Bad Omens</em>]"
      ]
     },
     "execution_count": 26,
     "metadata": {},
     "output_type": "execute_result"
    }
   ],
   "source": [
    "# This gets all artist\n",
    "soup.select(\"div.chart-content.col-xs-12.col-sm-8 > p > em\")"
   ]
  },
  {
   "cell_type": "code",
   "execution_count": 27,
   "id": "16160edb",
   "metadata": {},
   "outputs": [
    {
     "data": {
      "text/plain": [
       "'Jimin'"
      ]
     },
     "execution_count": 27,
     "metadata": {},
     "output_type": "execute_result"
    }
   ],
   "source": [
    "soup.select(\"div.chart-content.col-xs-12.col-sm-8 > p > em\")[0].get_text()"
   ]
  },
  {
   "cell_type": "code",
   "execution_count": 22,
   "id": "a4658e09",
   "metadata": {},
   "outputs": [
    {
     "data": {
      "text/plain": [
       "[]"
      ]
     },
     "execution_count": 22,
     "metadata": {},
     "output_type": "execute_result"
    }
   ],
   "source": [
    "soup.select(\"div.chart-content.col-xs-12.col-sm-8 > p > cite a\")"
   ]
  },
  {
   "cell_type": "code",
   "execution_count": 18,
   "id": "05837edb",
   "metadata": {},
   "outputs": [
    {
     "data": {
      "text/plain": [
       "'New Release'"
      ]
     },
     "execution_count": 18,
     "metadata": {},
     "output_type": "execute_result"
    }
   ],
   "source": [
    "# From jessie\n",
    "#soup.select(\"li.new-release\")[0].get_text()"
   ]
  },
  {
   "cell_type": "code",
   "execution_count": null,
   "id": "a05fd5d1",
   "metadata": {},
   "outputs": [],
   "source": [
    "#initialize empty lists\n",
    "titles = []\n",
    "artists = []\n",
    "\n",
    "\n",
    "# define the number of iterations of our for loop\n",
    "num_iter = len(soup.select(\"div.feed-item\"))\n",
    "\n",
    "titles_list = soup.select(\"cite.title\") #titles\n",
    "artists_list = soup.select(\"em.artist\") # artists\n",
    "# iterate through the result set and retrive all the data\n",
    "for i in range(num_iter):\n",
    "    titles.append(titles_list[i].get_text())\n",
    "    artists.append(artists_list[i].get_text())\n",
    "\n",
    "print(titles)\n",
    "print(artists)"
   ]
  },
  {
   "cell_type": "code",
   "execution_count": 47,
   "id": "a7915777",
   "metadata": {},
   "outputs": [
    {
     "name": "stdout",
     "output_type": "stream",
     "text": [
      "['Like Crazy (Deep House Remix)', 'Flowers', 'Like Crazy (UK Garage Remix)', 'Last Night', 'Fast Car', 'Like Crazy (Instrumental)', 'Like Crazy (English Version)', 'Like Crazy', 'Justice for All', 'Calm Down', 'Heart Like A Truck', 'Eyes Closed', 'Fighting Myself', \"Growin' Up and Gettin' Old\", 'You Say', 'Love You Anyway', 'Thinkin’ Bout Me', 'Thought You Should Know', 'Anti-Hero', '5 Leaf Clover', 'Players', 'labour', 'Thank God', 'This Is Our God', 'End of the World', \"God's Country\", 'More Than Able (feat. Chandler Moore & Tiffany Hudson)', 'Rock and a Hard Place', 'wait in the truck', 'Face-off', 'Thank God I Do', 'All Of The Girls You Loved Before', 'Unstoppable', 'Set Me Free, Pt. 2', 'Alone', 'Rescue', 'Favorite Song', 'BESO', \"I Ain't Worried\", 'Eyes Closed', 'NEED A FAVOR', 'TRUSTFALL', 'You Proof', 'Heart Attack (Rock Version)', 'Kill Bill', 'Interlude : Dive', 'Wasted On You', 'As It Was', \"Chasin' You\", \"Something in the Orange (Z&E's Version)\", 'In Jesus Name (God Of Possible)', 'Made You Look', 'Look At Us Now (Honeycomb)', 'Tennessee Whiskey', 'Lift Me Up (From Black Panther: Wakanda Forever - Music From and Inspired By)', 'Sure Thing', 'Hold My Hand', 'Son Of A Sinner', 'You Raise Me Up', 'Unholy', 'Gratitude', 'Lost', 'One Thing At A Time', 'TQG', \"Boy's a liar, Pt. 2\", 'ICU', \"What He Didn't Do\", 'Mother', 'Ghosts Again', 'golden hour', 'Die For You (Remix)', 'I Would Die for You', 'God Is In This Story', 'Going, Going, Gone', 'Handle On You', 'Dancin’ In The Country', 'Where the Wild Things Are', 'Calm Down', 'Let Me Down Easy', 'Change the World', 'I Wrote The Book', 'Hold On To Me', 'Lavender Haze', '10:35', 'Escapism.', 'God Gave Me You', 'Whiskey Glasses', 'Human', 'Trump Won', 'Bloody Mary', \"Creepin'\", 'Bright Eyes', 'Tennessee Orange', 'Everywhere', \"I'm Good (Blue)\", 'Forever and Ever, Amen', 'Head Above Water', 'Cowgirls (feat. ERNEST)', \"If Anything's Left\", 'Just Pretend']\n"
     ]
    },
    {
     "data": {
      "text/plain": [
       "['Jimin',\n",
       " 'Miley Cyrus',\n",
       " 'Jimin',\n",
       " 'Morgan Wallen',\n",
       " 'Luke Combs',\n",
       " 'Jimin',\n",
       " 'Jimin',\n",
       " 'Jimin',\n",
       " 'Donald J. Trump & J6 Prison Choir',\n",
       " 'Rema & Selena Gomez',\n",
       " 'Lainey Wilson',\n",
       " 'Ed Sheeran',\n",
       " 'LINKIN PARK',\n",
       " 'Luke Combs',\n",
       " 'Lauren Daigle',\n",
       " 'Luke Combs',\n",
       " 'Morgan Wallen',\n",
       " 'Morgan Wallen',\n",
       " 'Taylor Swift',\n",
       " 'Luke Combs',\n",
       " 'Coi Leray',\n",
       " 'Paris Paloma',\n",
       " 'Kane Brown & Katelyn Brown',\n",
       " 'Phil Wickham',\n",
       " 'Tom MacDonald & John Rich',\n",
       " 'Blake Shelton',\n",
       " 'Elevation Worship',\n",
       " 'Bailey Zimmerman',\n",
       " 'HARDY & Lainey Wilson',\n",
       " 'Jimin',\n",
       " 'Lauren Daigle',\n",
       " 'Taylor Swift',\n",
       " 'Sia',\n",
       " 'Jimin',\n",
       " 'Jimin',\n",
       " 'Lauren Daigle',\n",
       " 'Toosii',\n",
       " 'ROSALÍA & Rauw Alejandro',\n",
       " 'OneRepublic',\n",
       " 'Ed Sheeran',\n",
       " 'Jelly Roll',\n",
       " 'P!nk',\n",
       " 'Morgan Wallen',\n",
       " 'Demi Lovato',\n",
       " 'SZA',\n",
       " 'Jimin',\n",
       " 'Morgan Wallen',\n",
       " 'Harry Styles',\n",
       " 'Morgan Wallen',\n",
       " 'Zach Bryan',\n",
       " 'Katy Nichole',\n",
       " 'Meghan Trainor',\n",
       " 'Daisy Jones & The Six',\n",
       " 'Chris Stapleton',\n",
       " 'Rihanna',\n",
       " 'Miguel',\n",
       " 'Lady Gaga',\n",
       " 'Jelly Roll',\n",
       " 'Josh Groban',\n",
       " 'Sam Smith & Kim Petras',\n",
       " 'Brandon Lake',\n",
       " 'LINKIN PARK',\n",
       " 'Morgan Wallen',\n",
       " 'KAROL G & Shakira',\n",
       " 'PinkPantheress & Ice Spice',\n",
       " 'Coco Jones',\n",
       " 'Carly Pearce',\n",
       " 'Meghan Trainor',\n",
       " 'Depeche Mode',\n",
       " 'JVKE',\n",
       " 'The Weeknd & Ariana Grande',\n",
       " 'In This Moment',\n",
       " 'Katy Nichole & Big Daddy Weave',\n",
       " 'Luke Combs',\n",
       " 'Parker McCollum',\n",
       " 'Tyler Hubbard',\n",
       " 'Luke Combs',\n",
       " 'Rema',\n",
       " 'Daisy Jones & The Six',\n",
       " 'Eric Clapton',\n",
       " 'Morgan Wallen',\n",
       " 'Lauren Daigle',\n",
       " 'Taylor Swift',\n",
       " 'Tiësto & Tate McRae',\n",
       " 'RAYE & 070 Shake',\n",
       " 'Blake Shelton',\n",
       " 'Morgan Wallen',\n",
       " 'Cody Johnson',\n",
       " 'Natasha Owens',\n",
       " 'Lady Gaga',\n",
       " 'Metro Boomin, The Weeknd & 21 Savage',\n",
       " 'Timcast',\n",
       " 'Megan Moroney',\n",
       " 'Fleetwood Mac',\n",
       " 'David Guetta & Bebe Rexha',\n",
       " 'Randy Travis',\n",
       " 'Avril Lavigne',\n",
       " 'Morgan Wallen',\n",
       " 'Jamie Fine',\n",
       " 'Bad Omens']"
      ]
     },
     "execution_count": 47,
     "metadata": {},
     "output_type": "execute_result"
    }
   ],
   "source": [
    "title = []\n",
    "artist = []\n",
    "page = len(soup.select(\"div.chart-content.col-xs-12.col-sm-8\"))\n",
    "\n",
    "titles_list = soup.select(\"div.chart-content.col-xs-12.col-sm-8 > p > cite\") #titles\n",
    "artists_list = soup.select(\"div.chart-content.col-xs-12.col-sm-8 > p > em\") #artist\n",
    "\n",
    "for i in range(page):\n",
    "    title.append(titles_list[i].get_text())\n",
    "    artist.append(artists_list[i].get_text())\n",
    "\n",
    "\n",
    "print(title)\n",
    "artist\n",
    "    \n",
    "\n"
   ]
  },
  {
   "cell_type": "markdown",
   "id": "47c39c3a",
   "metadata": {},
   "source": [
    "###### Put each list in dataframe"
   ]
  },
  {
   "cell_type": "code",
   "execution_count": 48,
   "id": "aad7a8e1",
   "metadata": {},
   "outputs": [],
   "source": [
    "songs = pd.DataFrame({\"artist\":artist,\"title\":title})"
   ]
  },
  {
   "cell_type": "code",
   "execution_count": 49,
   "id": "02a3ea6b",
   "metadata": {},
   "outputs": [
    {
     "data": {
      "text/html": [
       "<div>\n",
       "<style scoped>\n",
       "    .dataframe tbody tr th:only-of-type {\n",
       "        vertical-align: middle;\n",
       "    }\n",
       "\n",
       "    .dataframe tbody tr th {\n",
       "        vertical-align: top;\n",
       "    }\n",
       "\n",
       "    .dataframe thead th {\n",
       "        text-align: right;\n",
       "    }\n",
       "</style>\n",
       "<table border=\"1\" class=\"dataframe\">\n",
       "  <thead>\n",
       "    <tr style=\"text-align: right;\">\n",
       "      <th></th>\n",
       "      <th>artist</th>\n",
       "      <th>title</th>\n",
       "    </tr>\n",
       "  </thead>\n",
       "  <tbody>\n",
       "    <tr>\n",
       "      <th>0</th>\n",
       "      <td>Jimin</td>\n",
       "      <td>Like Crazy (Deep House Remix)</td>\n",
       "    </tr>\n",
       "    <tr>\n",
       "      <th>1</th>\n",
       "      <td>Miley Cyrus</td>\n",
       "      <td>Flowers</td>\n",
       "    </tr>\n",
       "    <tr>\n",
       "      <th>2</th>\n",
       "      <td>Jimin</td>\n",
       "      <td>Like Crazy (UK Garage Remix)</td>\n",
       "    </tr>\n",
       "    <tr>\n",
       "      <th>3</th>\n",
       "      <td>Morgan Wallen</td>\n",
       "      <td>Last Night</td>\n",
       "    </tr>\n",
       "    <tr>\n",
       "      <th>4</th>\n",
       "      <td>Luke Combs</td>\n",
       "      <td>Fast Car</td>\n",
       "    </tr>\n",
       "    <tr>\n",
       "      <th>...</th>\n",
       "      <td>...</td>\n",
       "      <td>...</td>\n",
       "    </tr>\n",
       "    <tr>\n",
       "      <th>95</th>\n",
       "      <td>Randy Travis</td>\n",
       "      <td>Forever and Ever, Amen</td>\n",
       "    </tr>\n",
       "    <tr>\n",
       "      <th>96</th>\n",
       "      <td>Avril Lavigne</td>\n",
       "      <td>Head Above Water</td>\n",
       "    </tr>\n",
       "    <tr>\n",
       "      <th>97</th>\n",
       "      <td>Morgan Wallen</td>\n",
       "      <td>Cowgirls (feat. ERNEST)</td>\n",
       "    </tr>\n",
       "    <tr>\n",
       "      <th>98</th>\n",
       "      <td>Jamie Fine</td>\n",
       "      <td>If Anything's Left</td>\n",
       "    </tr>\n",
       "    <tr>\n",
       "      <th>99</th>\n",
       "      <td>Bad Omens</td>\n",
       "      <td>Just Pretend</td>\n",
       "    </tr>\n",
       "  </tbody>\n",
       "</table>\n",
       "<p>100 rows × 2 columns</p>\n",
       "</div>"
      ],
      "text/plain": [
       "           artist                          title\n",
       "0           Jimin  Like Crazy (Deep House Remix)\n",
       "1     Miley Cyrus                        Flowers\n",
       "2           Jimin   Like Crazy (UK Garage Remix)\n",
       "3   Morgan Wallen                     Last Night\n",
       "4      Luke Combs                       Fast Car\n",
       "..            ...                            ...\n",
       "95   Randy Travis         Forever and Ever, Amen\n",
       "96  Avril Lavigne               Head Above Water\n",
       "97  Morgan Wallen        Cowgirls (feat. ERNEST)\n",
       "98     Jamie Fine             If Anything's Left\n",
       "99      Bad Omens                   Just Pretend\n",
       "\n",
       "[100 rows x 2 columns]"
      ]
     },
     "execution_count": 49,
     "metadata": {},
     "output_type": "execute_result"
    }
   ],
   "source": [
    "songs"
   ]
  },
  {
   "cell_type": "code",
   "execution_count": null,
   "id": "6cc8eac1",
   "metadata": {},
   "outputs": [],
   "source": []
  }
 ],
 "metadata": {
  "kernelspec": {
   "display_name": "Python 3 (ipykernel)",
   "language": "python",
   "name": "python3"
  },
  "language_info": {
   "codemirror_mode": {
    "name": "ipython",
    "version": 3
   },
   "file_extension": ".py",
   "mimetype": "text/x-python",
   "name": "python",
   "nbconvert_exporter": "python",
   "pygments_lexer": "ipython3",
   "version": "3.9.13"
  }
 },
 "nbformat": 4,
 "nbformat_minor": 5
}
